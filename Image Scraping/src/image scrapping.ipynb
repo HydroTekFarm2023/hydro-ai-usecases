{
 "cells": [
  {
   "cell_type": "code",
   "execution_count": 22,
   "metadata": {},
   "outputs": [],
   "source": [
    "#!pip install selenium"
   ]
  },
  {
   "cell_type": "code",
   "execution_count": 23,
   "metadata": {},
   "outputs": [],
   "source": [
    "from PIL import Image\n",
    "import io\n",
    "import requests\n",
    "import hashlib\n",
    "import os\n",
    "import time"
   ]
  },
  {
   "cell_type": "code",
   "execution_count": 24,
   "metadata": {},
   "outputs": [],
   "source": [
    "import selenium\n",
    "from selenium import webdriver\n",
    "# Put the path for your ChromeDriver here\n",
    "DRIVER_PATH = r\"C:/webdriver/chromedriver.exe\" \n",
    "\n"
   ]
  },
  {
   "cell_type": "code",
   "execution_count": 25,
   "metadata": {},
   "outputs": [],
   "source": [
    "def fetch_image_urls(query:str, max_links_to_fetch:int, wd:webdriver, sleep_between_interactions:int=5):\n",
    "    def scroll_to_end(wd):\n",
    "        wd.execute_script(\"window.scrollTo(0, document.body.scrollHeight);\")\n",
    "        time.sleep(sleep_between_interactions)    \n",
    "    \n",
    "    # build the google query\n",
    "    search_url = \"https://www.google.com/search?safe=off&site=&tbm=isch&source=hp&q={q}&oq={q}&gs_l=img\"\n",
    "\n",
    "    # load the page\n",
    "    wd.get(search_url.format(q=query))\n",
    "\n",
    "    image_urls = set()\n",
    "    image_count = 0\n",
    "    results_start = 0\n",
    "    while image_count < max_links_to_fetch:\n",
    "        scroll_to_end(wd)\n",
    "\n",
    "        # get all image thumbnail results\n",
    "        thumbnail_results = wd.find_elements_by_css_selector(\"img.Q4LuWd\")\n",
    "        number_results = len(thumbnail_results)\n",
    "        \n",
    "        print(f\"Found: {number_results} search results. Extracting links from {results_start}:{number_results}\")\n",
    "        \n",
    "        for img in thumbnail_results[results_start:number_results]:\n",
    "            # try to click every thumbnail such that we can get the real image behind it\n",
    "            try:\n",
    "                img.click()\n",
    "                time.sleep(sleep_between_interactions)\n",
    "            except Exception:\n",
    "                continue\n",
    "\n",
    "            # extract image urls    \n",
    "            actual_images = wd.find_elements_by_css_selector('img.Q4LuWd')\n",
    "            for actual_image in actual_images:\n",
    "                if actual_image.get_attribute('src') and 'http' in actual_image.get_attribute('src'):\n",
    "                    image_urls.add(actual_image.get_attribute('src'))\n",
    "\n",
    "            image_count = len(image_urls)\n",
    "\n",
    "            if len(image_urls) >= max_links_to_fetch:\n",
    "                print(f\"Found: {len(image_urls)} image links, done!\")\n",
    "                break\n",
    "        else:\n",
    "            print(\"Found:\", len(image_urls), \"image links, looking for more ...\")\n",
    "            time.sleep(30)\n",
    "            return\n",
    "            load_more_button = wd.find_element_by_css_selector(\".Q4LuWd\")\n",
    "            if load_more_button:\n",
    "                wd.execute_script(\"document.querySelector('.Q4LuWd').click();\")\n",
    "\n",
    "        # move the result startpoint further down\n",
    "        results_start = len(thumbnail_results)\n",
    "\n",
    "    return image_urls"
   ]
  },
  {
   "cell_type": "code",
   "execution_count": 26,
   "metadata": {},
   "outputs": [],
   "source": [
    "def persist_image(folder_path:str,url:str):\n",
    "    try:\n",
    "        image_content = requests.get(url).content\n",
    "\n",
    "    except Exception as e:\n",
    "        print(f\"ERROR - Could not download {url} - {e}\")\n",
    "\n",
    "    try:\n",
    "        image_file = io.BytesIO(image_content)\n",
    "        image = Image.open(image_file).convert('RGB')\n",
    "        file_path = os.path.join(folder_path,hashlib.sha1(image_content).hexdigest()[:10] + '.jpg')\n",
    "        with open(file_path, 'wb') as f:\n",
    "            image.save(f, \"JPEG\", quality=85)\n",
    "        print(f\"SUCCESS - saved {url} - as {file_path}\")\n",
    "    except Exception as e:\n",
    "        print(f\"ERROR - Could not save {url} - {e}\")"
   ]
  },
  {
   "cell_type": "code",
   "execution_count": 29,
   "metadata": {},
   "outputs": [],
   "source": [
    "#You can change number of images from here\n",
    "def search_and_download(search_term:str,driver_path:str,target_path=r\"C:/Users/Reddy/Desktop/selenium\",number_images=50):\n",
    "    target_folder = os.path.join(target_path,'_'.join(search_term.lower().split(' ')))\n",
    "\n",
    "    if not os.path.exists(target_folder):\n",
    "        os.makedirs(target_folder)\n",
    "\n",
    "    with webdriver.Chrome(executable_path=driver_path) as wd:\n",
    "        res = fetch_image_urls(search_term, number_images, wd=wd, sleep_between_interactions=5)\n",
    "        \n",
    "    for elem in res:\n",
    "        persist_image(target_folder,elem)"
   ]
  },
  {
   "cell_type": "markdown",
   "metadata": {},
   "source": [
    "### Just run this cell by putting your search keyword"
   ]
  },
  {
   "cell_type": "code",
   "execution_count": 30,
   "metadata": {},
   "outputs": [
    {
     "name": "stdout",
     "output_type": "stream",
     "text": [
      "Found: 48 search results. Extracting links from 0:48\n",
      "Found: 53 image links, done!\n",
      "SUCCESS - saved https://encrypted-tbn0.gstatic.com/images?q=tbn:ANd9GcTlgWIH8nMsnTPQNz4Vk1VijbKrzh2k7AF1sQ&usqp=CAU - as C:/Users/Reddy/Desktop/selenium\\anthracnose_in_lettuce\\3037b85853.jpg\n",
      "SUCCESS - saved https://encrypted-tbn0.gstatic.com/images?q=tbn:ANd9GcSHfE8UcWsbEfnsBVeb4U7xDlrXgBnaVZw03w&usqp=CAU - as C:/Users/Reddy/Desktop/selenium\\anthracnose_in_lettuce\\26e39a5ace.jpg\n",
      "SUCCESS - saved https://encrypted-tbn0.gstatic.com/images?q=tbn:ANd9GcS8VEccmnGpLZkH6qMCTK8xTolj4z2BsLkytQ&usqp=CAU - as C:/Users/Reddy/Desktop/selenium\\anthracnose_in_lettuce\\e57d8cf94c.jpg\n",
      "SUCCESS - saved https://encrypted-tbn0.gstatic.com/images?q=tbn:ANd9GcRwm9oFerq-QfM9tFFAot_sQhyWbsmUzXZ8eg&usqp=CAU - as C:/Users/Reddy/Desktop/selenium\\anthracnose_in_lettuce\\d2baa20abd.jpg\n",
      "SUCCESS - saved https://encrypted-tbn0.gstatic.com/images?q=tbn:ANd9GcQ0v_myGCBjYAH3-vsGCY3si0UwVFAHII_wBw&usqp=CAU - as C:/Users/Reddy/Desktop/selenium\\anthracnose_in_lettuce\\68c0d21fb2.jpg\n",
      "SUCCESS - saved https://encrypted-tbn0.gstatic.com/images?q=tbn:ANd9GcSpLCaXdnSYn4pFBGKHGumGef_yhJNW_wWo8g&usqp=CAU - as C:/Users/Reddy/Desktop/selenium\\anthracnose_in_lettuce\\034ae98e96.jpg\n",
      "SUCCESS - saved https://encrypted-tbn0.gstatic.com/images?q=tbn:ANd9GcQsCk-KWwHgdDgBmgccdrCqqAWx2hGWJk-2fQ&usqp=CAU - as C:/Users/Reddy/Desktop/selenium\\anthracnose_in_lettuce\\33d52fe2aa.jpg\n",
      "SUCCESS - saved https://encrypted-tbn0.gstatic.com/images?q=tbn:ANd9GcSYuMC0Aexi-h58QPSR9hinrimwyGWrfc0-4w&usqp=CAU - as C:/Users/Reddy/Desktop/selenium\\anthracnose_in_lettuce\\661ff00aba.jpg\n",
      "SUCCESS - saved https://encrypted-tbn0.gstatic.com/images?q=tbn:ANd9GcQ7Pl5yTmpoXZECiMkM-M4xlqWRbl1S9jiTaw&usqp=CAU - as C:/Users/Reddy/Desktop/selenium\\anthracnose_in_lettuce\\e646af17c8.jpg\n",
      "SUCCESS - saved https://encrypted-tbn0.gstatic.com/images?q=tbn:ANd9GcQL_GtT5J0QZc1bXwbFJkb_gXRvHDdIOagh4A&usqp=CAU - as C:/Users/Reddy/Desktop/selenium\\anthracnose_in_lettuce\\5826b1b35e.jpg\n",
      "SUCCESS - saved https://encrypted-tbn0.gstatic.com/images?q=tbn:ANd9GcSBJgj0ffMoO-AClV9tsiYHfX3mEWqF3kSViA&usqp=CAU - as C:/Users/Reddy/Desktop/selenium\\anthracnose_in_lettuce\\4bb2ce23f6.jpg\n",
      "SUCCESS - saved https://encrypted-tbn0.gstatic.com/images?q=tbn:ANd9GcRCRsW_w_3cbt0FaBgrk1cspyrq2NIJN2uIpw&usqp=CAU - as C:/Users/Reddy/Desktop/selenium\\anthracnose_in_lettuce\\795be585e1.jpg\n",
      "SUCCESS - saved https://encrypted-tbn0.gstatic.com/images?q=tbn:ANd9GcRmngLNyYCAP-cbjNT-sZDpEs7Tpu9uHm3nhA&usqp=CAU - as C:/Users/Reddy/Desktop/selenium\\anthracnose_in_lettuce\\661d2c6793.jpg\n",
      "SUCCESS - saved https://encrypted-tbn0.gstatic.com/images?q=tbn:ANd9GcRZxkluv3fezoj6XaaDWRbbLX3cjx0zPpq0HQ&usqp=CAU - as C:/Users/Reddy/Desktop/selenium\\anthracnose_in_lettuce\\f27212e401.jpg\n",
      "SUCCESS - saved https://encrypted-tbn0.gstatic.com/images?q=tbn:ANd9GcQ97s5G0qa3y-zUlGsvGTOp7WIujTpEP82iiw&usqp=CAU - as C:/Users/Reddy/Desktop/selenium\\anthracnose_in_lettuce\\d9721a7180.jpg\n",
      "SUCCESS - saved https://encrypted-tbn0.gstatic.com/images?q=tbn:ANd9GcST83PlbvJhDRJJBvHFeWorSqHI3pQ7Ly_jzQ&usqp=CAU - as C:/Users/Reddy/Desktop/selenium\\anthracnose_in_lettuce\\740099acd0.jpg\n",
      "SUCCESS - saved https://encrypted-tbn0.gstatic.com/images?q=tbn:ANd9GcTy2NHk-PTLjEVfcWRQFP4Fh3pK3ROGfSBOEw&usqp=CAU - as C:/Users/Reddy/Desktop/selenium\\anthracnose_in_lettuce\\f691825c4c.jpg\n",
      "SUCCESS - saved https://encrypted-tbn0.gstatic.com/images?q=tbn:ANd9GcRlzzhpb6FKI4FXro9WK3kc_KHrz2qVJMEr2A&usqp=CAU - as C:/Users/Reddy/Desktop/selenium\\anthracnose_in_lettuce\\bf25dca49a.jpg\n",
      "SUCCESS - saved https://encrypted-tbn0.gstatic.com/images?q=tbn:ANd9GcRu1HfOQupkTtH-lRdedUtGPzsgvFRHnb8OFA&usqp=CAU - as C:/Users/Reddy/Desktop/selenium\\anthracnose_in_lettuce\\d69bef47b7.jpg\n",
      "SUCCESS - saved https://encrypted-tbn0.gstatic.com/images?q=tbn:ANd9GcT7vd_xLPcgzt5OJZCK2j7hWTs5I96_UpBkmg&usqp=CAU - as C:/Users/Reddy/Desktop/selenium\\anthracnose_in_lettuce\\337ec52086.jpg\n",
      "SUCCESS - saved https://encrypted-tbn0.gstatic.com/images?q=tbn:ANd9GcTXnpF36Kl7ymLwT2M8tQiuS6CXA-nf9oixQA&usqp=CAU - as C:/Users/Reddy/Desktop/selenium\\anthracnose_in_lettuce\\9db2fcaf6d.jpg\n",
      "SUCCESS - saved https://encrypted-tbn0.gstatic.com/images?q=tbn:ANd9GcS73sTirntkbkKNZspN2ZrbshUNlCxKqv4Hcw&usqp=CAU - as C:/Users/Reddy/Desktop/selenium\\anthracnose_in_lettuce\\a630330c3f.jpg\n",
      "SUCCESS - saved https://encrypted-tbn0.gstatic.com/images?q=tbn:ANd9GcTkyi2gDMQuqn7pn4BS2-ADN136qTT7yHF7qw&usqp=CAU - as C:/Users/Reddy/Desktop/selenium\\anthracnose_in_lettuce\\add0d160a6.jpg\n",
      "SUCCESS - saved https://encrypted-tbn0.gstatic.com/images?q=tbn:ANd9GcQIqe8BzXfu2mPHeEgC2KgwGsG-9qgorc88IQ&usqp=CAU - as C:/Users/Reddy/Desktop/selenium\\anthracnose_in_lettuce\\f344169040.jpg\n",
      "SUCCESS - saved https://encrypted-tbn0.gstatic.com/images?q=tbn:ANd9GcSMh7Qarr6bTDH_pqq014os-Kz5qtJrG8KNVg&usqp=CAU - as C:/Users/Reddy/Desktop/selenium\\anthracnose_in_lettuce\\ed0911d547.jpg\n",
      "SUCCESS - saved https://encrypted-tbn0.gstatic.com/images?q=tbn:ANd9GcQz2LvXQaCZp2_X75uz_MTmx8DVMgsNApM33A&usqp=CAU - as C:/Users/Reddy/Desktop/selenium\\anthracnose_in_lettuce\\c336d9218e.jpg\n",
      "SUCCESS - saved https://encrypted-tbn0.gstatic.com/images?q=tbn:ANd9GcQrmnnUYSxqWmuNDlybIElftGDfuEfSdt2eWA&usqp=CAU - as C:/Users/Reddy/Desktop/selenium\\anthracnose_in_lettuce\\ce5912eefc.jpg\n",
      "SUCCESS - saved https://encrypted-tbn0.gstatic.com/images?q=tbn:ANd9GcRpl8GGzNcYMDzLeK5v67nD2GjNMjp9gkzbrA&usqp=CAU - as C:/Users/Reddy/Desktop/selenium\\anthracnose_in_lettuce\\66256266a1.jpg\n",
      "SUCCESS - saved https://encrypted-tbn0.gstatic.com/images?q=tbn:ANd9GcTMniOajPJyRJ3YJTHcEpsqeKMAANIBPljgAw&usqp=CAU - as C:/Users/Reddy/Desktop/selenium\\anthracnose_in_lettuce\\4a79482f8e.jpg\n",
      "SUCCESS - saved https://encrypted-tbn0.gstatic.com/images?q=tbn:ANd9GcS6r-1bq4UTIGgRnwpdhcey1-nTH-wh8K46rQ&usqp=CAU - as C:/Users/Reddy/Desktop/selenium\\anthracnose_in_lettuce\\8613193c4c.jpg\n",
      "SUCCESS - saved https://encrypted-tbn0.gstatic.com/images?q=tbn:ANd9GcTOSflCit2fD1Hz_WEKlyxeTv3PnO0EsjZxIA&usqp=CAU - as C:/Users/Reddy/Desktop/selenium\\anthracnose_in_lettuce\\ebba7438cc.jpg\n",
      "SUCCESS - saved https://encrypted-tbn0.gstatic.com/images?q=tbn:ANd9GcSIYkN61ZmcQTId1psH7EZtJ2zv1rfgtwPXtg&usqp=CAU - as C:/Users/Reddy/Desktop/selenium\\anthracnose_in_lettuce\\02a84124d9.jpg\n",
      "SUCCESS - saved https://encrypted-tbn0.gstatic.com/images?q=tbn:ANd9GcTnxBwATozRuSnA42pMd9-YkBSUExzNJCJD7Q&usqp=CAU - as C:/Users/Reddy/Desktop/selenium\\anthracnose_in_lettuce\\47e81fe0ee.jpg\n",
      "SUCCESS - saved https://encrypted-tbn0.gstatic.com/images?q=tbn:ANd9GcTIMm_LlMoN3exR2WR8m_0p3MnbYa0fT4XPjQ&usqp=CAU - as C:/Users/Reddy/Desktop/selenium\\anthracnose_in_lettuce\\9719f13fa9.jpg\n",
      "SUCCESS - saved https://encrypted-tbn0.gstatic.com/images?q=tbn:ANd9GcQjIakZ4M0-3ohdk8Am1brlnnlu-VdZNffSEw&usqp=CAU - as C:/Users/Reddy/Desktop/selenium\\anthracnose_in_lettuce\\a6d26ff433.jpg\n",
      "SUCCESS - saved https://encrypted-tbn0.gstatic.com/images?q=tbn:ANd9GcRqvOM3j5J_mGzbMuJ3ZHl9Ig_vWTHagknrvQ&usqp=CAU - as C:/Users/Reddy/Desktop/selenium\\anthracnose_in_lettuce\\af43fcff0c.jpg\n",
      "SUCCESS - saved https://encrypted-tbn0.gstatic.com/images?q=tbn:ANd9GcQQcJ334dT-IIIaecfsBTmbocL-tgcn5kr_yA&usqp=CAU - as C:/Users/Reddy/Desktop/selenium\\anthracnose_in_lettuce\\e5baec7e97.jpg\n",
      "SUCCESS - saved https://encrypted-tbn0.gstatic.com/images?q=tbn:ANd9GcR7WFNvjSXO--pu-jxuVfxBqUvDVY9Z5UMDnw&usqp=CAU - as C:/Users/Reddy/Desktop/selenium\\anthracnose_in_lettuce\\81a6aa45b6.jpg\n",
      "SUCCESS - saved https://encrypted-tbn0.gstatic.com/images?q=tbn:ANd9GcT72fLjPrTGd1knYTIbGFvyrpmXpPFfCK4kgg&usqp=CAU - as C:/Users/Reddy/Desktop/selenium\\anthracnose_in_lettuce\\dec7d3aaf8.jpg\n",
      "SUCCESS - saved https://encrypted-tbn0.gstatic.com/images?q=tbn:ANd9GcTKcl7sXDPwDeV9FBIPx9JhuOU1WDwZQ4B8Dw&usqp=CAU - as C:/Users/Reddy/Desktop/selenium\\anthracnose_in_lettuce\\d16551983d.jpg\n",
      "SUCCESS - saved https://encrypted-tbn0.gstatic.com/images?q=tbn:ANd9GcTFlgjNECjHcqbphv4vCnCg1piIppnPYqKF0g&usqp=CAU - as C:/Users/Reddy/Desktop/selenium\\anthracnose_in_lettuce\\24ecadbd47.jpg\n",
      "SUCCESS - saved https://encrypted-tbn0.gstatic.com/images?q=tbn:ANd9GcQ4hFT1l9hu8L9iWQk3_0Mjoq2h8luNR0S6Dg&usqp=CAU - as C:/Users/Reddy/Desktop/selenium\\anthracnose_in_lettuce\\245e96f171.jpg\n",
      "SUCCESS - saved https://encrypted-tbn0.gstatic.com/images?q=tbn:ANd9GcSI0jtrzG6kdxcTMqAsDIiK32dv79uzasBwVw&usqp=CAU - as C:/Users/Reddy/Desktop/selenium\\anthracnose_in_lettuce\\b2aaa37044.jpg\n"
     ]
    },
    {
     "name": "stdout",
     "output_type": "stream",
     "text": [
      "SUCCESS - saved https://encrypted-tbn0.gstatic.com/images?q=tbn:ANd9GcROfiEvbOS3UgjIRL3OJYygucmj5J1lQD1s8w&usqp=CAU - as C:/Users/Reddy/Desktop/selenium\\anthracnose_in_lettuce\\486d977282.jpg\n",
      "SUCCESS - saved https://encrypted-tbn0.gstatic.com/images?q=tbn:ANd9GcTVzoLepx2XEj0HyGKlU-b_LsfiO1ZYms4_Fw&usqp=CAU - as C:/Users/Reddy/Desktop/selenium\\anthracnose_in_lettuce\\cb8409fb9f.jpg\n",
      "SUCCESS - saved https://encrypted-tbn0.gstatic.com/images?q=tbn:ANd9GcTvTHj5_Ls_C0E-OdZIR1t--WRQzP6ZJYh4Jg&usqp=CAU - as C:/Users/Reddy/Desktop/selenium\\anthracnose_in_lettuce\\822dd5f6ac.jpg\n",
      "SUCCESS - saved https://encrypted-tbn0.gstatic.com/images?q=tbn:ANd9GcSUEEURm9I0hs0rWR1mhtM2EScnn3dHuBvNnQ&usqp=CAU - as C:/Users/Reddy/Desktop/selenium\\anthracnose_in_lettuce\\b407b52eaf.jpg\n",
      "SUCCESS - saved https://encrypted-tbn0.gstatic.com/images?q=tbn:ANd9GcRbDMG0oSfec_STqNCQhsjuROtzjynOkiNGPg&usqp=CAU - as C:/Users/Reddy/Desktop/selenium\\anthracnose_in_lettuce\\978d529007.jpg\n",
      "SUCCESS - saved https://encrypted-tbn0.gstatic.com/images?q=tbn:ANd9GcR3f98IhuOPf_J-OqA6lh76xWbC3p7yhjrd7g&usqp=CAU - as C:/Users/Reddy/Desktop/selenium\\anthracnose_in_lettuce\\6727210d37.jpg\n",
      "SUCCESS - saved https://encrypted-tbn0.gstatic.com/images?q=tbn:ANd9GcQ5T9OX1SIb5E3fJ5rRvRKVw1qR6p2GbxofpA&usqp=CAU - as C:/Users/Reddy/Desktop/selenium\\anthracnose_in_lettuce\\18f8b08d0c.jpg\n",
      "SUCCESS - saved https://encrypted-tbn0.gstatic.com/images?q=tbn:ANd9GcQv7cHEiE8S1RGnAJjQp81eF4jBpsQY7bYznw&usqp=CAU - as C:/Users/Reddy/Desktop/selenium\\anthracnose_in_lettuce\\df8c0f0f85.jpg\n",
      "SUCCESS - saved https://encrypted-tbn0.gstatic.com/images?q=tbn:ANd9GcSIP52Z3NXlxW9Xs6EYqOzrMUsnYuPNRcT2GQ&usqp=CAU - as C:/Users/Reddy/Desktop/selenium\\anthracnose_in_lettuce\\828d65ce24.jpg\n",
      "SUCCESS - saved https://encrypted-tbn0.gstatic.com/images?q=tbn:ANd9GcS9Z-UBBXvKpHbYIyARj4Ir95KVs5Q3MY7gqg&usqp=CAU - as C:/Users/Reddy/Desktop/selenium\\anthracnose_in_lettuce\\ed4855b805.jpg\n"
     ]
    }
   ],
   "source": [
    "search_term = 'Anthracnose in lettuce'\n",
    "search_and_download(search_term = search_term,driver_path= DRIVER_PATH)"
   ]
  },
  {
   "cell_type": "code",
   "execution_count": null,
   "metadata": {},
   "outputs": [],
   "source": []
  }
 ],
 "metadata": {
  "kernelspec": {
   "display_name": "Python 3",
   "language": "python",
   "name": "python3"
  },
  "language_info": {
   "codemirror_mode": {
    "name": "ipython",
    "version": 3
   },
   "file_extension": ".py",
   "mimetype": "text/x-python",
   "name": "python",
   "nbconvert_exporter": "python",
   "pygments_lexer": "ipython3",
   "version": "3.7.4"
  }
 },
 "nbformat": 4,
 "nbformat_minor": 2
}
