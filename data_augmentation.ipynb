{
  "nbformat": 4,
  "nbformat_minor": 0,
  "metadata": {
    "colab": {
      "name": "data_augmentation.ipynb",
      "provenance": [],
      "collapsed_sections": []
    },
    "kernelspec": {
      "name": "python3",
      "display_name": "Python 3"
    }
  },
  "cells": [
    {
      "cell_type": "code",
      "metadata": {
        "id": "pzhgxYeC4Ie5",
        "outputId": "baaf5d7b-a459-448e-c80e-b71e0c2347e3",
        "colab": {
          "base_uri": "https://localhost:8080/",
          "height": 34
        }
      },
      "source": [
        "import cv2\n",
        "import pandas as pd\n",
        "import numpy as np\n",
        "\n",
        "from google.colab import drive\n",
        "drive.mount('/content/drive')\n",
        "from skimage import io \n",
        "from skimage.transform import rotate, AffineTransform, warp\n",
        "import matplotlib.pyplot as plt\n",
        "import random\n",
        "from skimage import img_as_ubyte\n",
        "import os\n",
        "\n",
        "from skimage.util import random_noise"
      ],
      "execution_count": null,
      "outputs": [
        {
          "output_type": "stream",
          "text": [
            "Mounted at /content/drive\n"
          ],
          "name": "stdout"
        }
      ]
    },
    {
      "cell_type": "code",
      "metadata": {
        "id": "-ieOIwlZ5e7s"
      },
      "source": [
        "from google.colab.patches import cv2_imshow\n",
        "import matplotlib.pyplot as plt"
      ],
      "execution_count": null,
      "outputs": []
    },
    {
      "cell_type": "code",
      "metadata": {
        "id": "8Se8wCot4DX0"
      },
      "source": [
        "\n",
        "#Lets define functions for each operation\n",
        "def anticlockwise_rotation(image):\n",
        "    angle= random.randint(0,180)\n",
        "    return rotate(image, angle)\n",
        "\n",
        "def clockwise_rotation(image):\n",
        "    angle= random.randint(0,180)\n",
        "    return rotate(image, -angle)\n",
        "\n",
        "def h_flip(image):\n",
        "    return  np.fliplr(image)\n",
        "\n",
        "def v_flip(image):\n",
        "    return np.flipud(image)\n",
        "\n",
        "def add_noise(image):\n",
        "    return random_noise(image)\n",
        "\n",
        "def blur_image(image):\n",
        "    return cv2.GaussianBlur(image, (9,9),0)\n",
        "\n",
        "#I would not recommend warp_shifting, because it distorts image, but can be used in many use case like \n",
        "#classifying blur and non-blur images\n",
        "def warp_shift(image): \n",
        "    transform = AffineTransform(translation=(0,40))  #chose x,y values according to your convinience\n",
        "    warp_image = warp(image, transform, mode=\"wrap\")\n",
        "    return warp_image"
      ],
      "execution_count": null,
      "outputs": []
    },
    {
      "cell_type": "code",
      "metadata": {
        "id": "OpiSCtYQBqS9"
      },
      "source": [
        "transformations = {'rotate anticlockwise': anticlockwise_rotation,\n",
        "                      'rotate clockwise': clockwise_rotation,\n",
        "                      'horizontal flip': h_flip, \n",
        "                      'vertical flip': v_flip,\n",
        "                   'warp shift': warp_shift,\n",
        "                   'adding noise': add_noise,\n",
        "                   'blurring image':blur_image\n",
        "                 }                \n",
        "\n",
        "images_path=\"/content/drive/My Drive/Lettuce/lettuce_dataset/lettuce_Downy_mildew\" #path to original images\n",
        "augmented_path=\"/content/drive/My Drive/Lettuce/lettuce_val/lettuce_Downy_mildew\" # path to store aumented images\n",
        "images=[] # to store paths of images from folder\n",
        "\n",
        "for im in os.listdir(images_path):  # read image name from folder and append its path into \"images\" array     \n",
        "    images.append(os.path.join(images_path,im))\n",
        "\n",
        "images_to_generate=100  #you can change this value according to your requirement\n",
        "i=1                        # variable to iterate till images_to_generate\n",
        "\n",
        "while i<=images_to_generate:    \n",
        "    image=random.choice(images)\n",
        "    original_image = io.imread(image)\n",
        "    transformed_image=None\n",
        "#     print(i)\n",
        "    n = 0       #variable to iterate till number of transformation to apply\n",
        "    transformation_count = random.randint(1, len(transformations)) #choose random number of transformation to apply on the image\n",
        "    \n",
        "    while n <= transformation_count:\n",
        "        key = random.choice(list(transformations)) #randomly choosing method to call\n",
        "        transformed_image = transformations[key](original_image)\n",
        "        n = n + 1\n",
        "        \n",
        "    new_image_path= \"%s/augmented_image_%s.jpg\" %(augmented_path, i)\n",
        "    transformed_image = img_as_ubyte(transformed_image)  #Convert an image to unsigned byte format, with values in [0, 255].\n",
        "    transformed_image=cv2.cvtColor(transformed_image, cv2.COLOR_BGR2RGB) #convert image to RGB before saving it\n",
        "    cv2.imwrite(new_image_path, transformed_image) # save transformed image to path\n",
        "    i =i+1\n",
        "\n"
      ],
      "execution_count": null,
      "outputs": []
    }
  ]
}