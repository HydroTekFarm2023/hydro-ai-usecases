{
 "cells": [
  {
   "cell_type": "code",
   "execution_count": 1,
   "metadata": {},
   "outputs": [],
   "source": [
    "import matplotlib.pyplot as plt\n",
    "from mpl_toolkits.mplot3d import Axes3D\n",
    "import cv2\n",
    "import numpy as np\n",
    "import pandas as pd\n",
    "import matplotlib.pyplot as plt\n",
    "from sklearn.cluster import KMeans\n",
    "\n",
    "class DominantColors:\n",
    "    \n",
    "     \n",
    "    CLUSTERS = None\n",
    "    IMAGE = None\n",
    "    COLORS = None\n",
    "    LABELS = None\n",
    "    \n",
    "    def __init__(self, image, clusters=3):\n",
    "        self.CLUSTERS = clusters\n",
    "        self.IMAGE = image\n",
    "        \n",
    "        \n",
    "    def dominantColors(self):\n",
    "    \n",
    "        #read image\n",
    "        img = cv2.imread(self.IMAGE)\n",
    "        \n",
    "        #convert to rgb from bgr\n",
    "        img = cv2.cvtColor(img, cv2.COLOR_BGR2RGB)\n",
    "                \n",
    "        #reshaping to a list of pixels\n",
    "        img = img.reshape((img.shape[0] * img.shape[1], 3))\n",
    "        \n",
    "        #save image after operations\n",
    "        self.IMAGE = img\n",
    "        \n",
    "        #using k-means to cluster pixels\n",
    "        kmeans = KMeans(n_clusters = self.CLUSTERS)\n",
    "        kmeans.fit(img)\n",
    "        \n",
    "        #the cluster centers are our dominant colors.\n",
    "        self.COLORS = kmeans.cluster_centers_\n",
    "        \n",
    "        #save labels\n",
    "        self.LABELS = kmeans.labels_\n",
    "        \n",
    "        #returning after converting to integer from float\n",
    "        return self.COLORS.astype(int)\n",
    "    \n",
    "    def plotHistogram(self):\n",
    "       \n",
    "        #labels form 0 to no. of clusters\n",
    "        numLabels = np.arange(0, self.CLUSTERS+1)\n",
    "       \n",
    "        #create frequency count tables    \n",
    "        (hist, _) = np.histogram(self.LABELS, bins = numLabels)\n",
    "        hist = hist.astype(\"float\")\n",
    "        hist /= hist.sum()\n",
    "        \n",
    "       \n",
    "        \n",
    "        #appending frequencies to cluster centers\n",
    "        colors = self.COLORS\n",
    "        \n",
    "        \n",
    "        #descending order sorting as per frequency count\n",
    "        colors = colors[(-hist).argsort()]\n",
    "        hist = hist[(-hist).argsort()]\n",
    "        \n",
    "       \n",
    "                \n",
    "        #creating empty chart\n",
    "        chart = np.zeros((50, 500, 3), np.uint8)\n",
    "        start = 0\n",
    "        \n",
    "        colorcode = []\n",
    "        #creating color rectangles\n",
    "        for i in range(self.CLUSTERS):\n",
    "            end = start + hist[i] * 500\n",
    "            \n",
    "            #getting rgb values\n",
    "            r = colors[i][0]\n",
    "            g = colors[i][1]\n",
    "            b = colors[i][2]\n",
    "            \n",
    "            \n",
    "            Hex = '#%02x%02x%02x' % (int(r), int(g), int(b))\n",
    "            colorcode.append(Hex)\n",
    "            colorcode1 = np.array(colorcode)\n",
    "            #using cv2.rectangle to plot colors\n",
    "            cv2.rectangle(chart, (int(start), 0), (int(end), 50), (r,g,b), -1)\n",
    "            start = end\n",
    "        \n",
    "        \n",
    "        #display chart\n",
    "        plt.figure()\n",
    "        plt.axis(\"off\")\n",
    "        plt.imshow(chart)\n",
    "        plt.show()\n",
    "        \n",
    "        df = pd.DataFrame({\"colorcode\": colorcode1, \"percent\":hist*100})\n",
    "        print(df)\n",
    "\n",
    "        "
   ]
  },
  {
   "cell_type": "code",
   "execution_count": 3,
   "metadata": {},
   "outputs": [
    {
     "data": {
      "image/png": "[encoded data removed]",
      "text/plain": [
       "<Figure size 432x288 with 1 Axes>"
      ]
     },
     "metadata": {
      "needs_background": "light"
     },
     "output_type": "display_data"
    },
    {
     "name": "stdout",
     "output_type": "stream",
     "text": [
      "  colorcode    percent\n",
      "0   #020203  38.175676\n",
      "1   #db4217  28.018387\n",
      "2   #986ea1  16.360213\n",
      "3   #394486   8.949934\n",
      "4   #d33a67   8.495791\n"
     ]
    }
   ],
   "source": [
    "img = 'D:/Hydrotek/1.png'\n",
    "clusters = 5\n",
    "dc = DominantColors(img, clusters)\n",
    "colors = dc.dominantColors()\n",
    "dc.plotHistogram()\n",
    "\n"
   ]
  },
  {
   "cell_type": "code",
   "execution_count": null,
   "metadata": {},
   "outputs": [],
   "source": []
  },
  {
   "cell_type": "code",
   "execution_count": null,
   "metadata": {},
   "outputs": [],
   "source": []
  }
 ],
 "metadata": {
  "kernelspec": {
   "display_name": "Python 3",
   "language": "python",
   "name": "python3"
  },
  "language_info": {
   "codemirror_mode": {
    "name": "ipython",
    "version": 3
   },
   "file_extension": ".py",
   "mimetype": "text/x-python",
   "name": "python",
   "nbconvert_exporter": "python",
   "pygments_lexer": "ipython3",
   "version": "3.7.7"
  }
 },
 "nbformat": 4,
 "nbformat_minor": 2
}
