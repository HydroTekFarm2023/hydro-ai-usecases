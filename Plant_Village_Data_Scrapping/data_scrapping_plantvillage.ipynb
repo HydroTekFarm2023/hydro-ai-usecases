{
 "cells": [
  {
   "cell_type": "code",
   "execution_count": 6,
   "metadata": {},
   "outputs": [],
   "source": [
    "from bs4 import BeautifulSoup\n",
    "import urllib.request as url \n",
    "import requests\n",
    "import pprint\n",
    "import re\n",
    "from pandas import DataFrame\n"
   ]
  },
  {
   "cell_type": "code",
   "execution_count": 7,
   "metadata": {},
   "outputs": [],
   "source": [
    "from bs4 import BeautifulSoup\n",
    "import requests\n",
    "import pandas as pd\n",
    "\n",
    "def collectData(file):\n",
    "    \n",
    "    result_name=[]\n",
    "    result_symptoms = []\n",
    "    result_causes = []\n",
    "    result_comments = []\n",
    "    result_managements = []\n",
    "    \n",
    "    #reading urls from .xlsx sheet\n",
    "    df = pd.read_excel(file)\n",
    "    links = df['links']\n",
    "    for x in links:\n",
    "        try:\n",
    "            #stripping the last part of url for file name\n",
    "            text = ((x.rsplit('/', 2)[1]).rsplit('.',1)[0])\n",
    "            file_name = text + '.xlsx'\n",
    "            page = requests.get(x)\n",
    "            soup = BeautifulSoup(page.text, 'html.parser')\n",
    "            names = soup.find_all('h4')\n",
    "            \n",
    "            for name in names:\n",
    "                if name.text.strip().encode('utf8') != '':\n",
    "                    name_after_splitted = name.text.strip()\n",
    "                    result_name.append(name_after_splitted)\n",
    "            prefixes = ('Category','Caused')\n",
    "            Name = result_name\n",
    "            for word in Name[:]:\n",
    "                if word.startswith(prefixes):\n",
    "                    Name.remove(word)\n",
    "\n",
    "            import re\n",
    "            sep = '\\n'\n",
    "            lines = []\n",
    "            for line in Name:\n",
    "                res = line.split(sep, 1)[0]\n",
    "                res1 = text + '_' + res\n",
    "                lines.append(res1)\n",
    "            \n",
    "            symptoms = soup.find_all('div', class_='symptoms')\n",
    "            causes = soup.find_all('div', class_='cause')\n",
    "            comments = soup.find_all('div', class_='comments')\n",
    "            managements = soup.find_all('div', class_='management')\n",
    "            # print symptoms\n",
    "            for symptom in symptoms:\n",
    "                if symptom.text.strip().encode('utf8') != '':\n",
    "                    symptom_after_splitted = symptom.text.strip()\n",
    "                    result_symptoms.append(symptom_after_splitted)\n",
    "            for cause in causes:\n",
    "                if cause.text.strip().encode('utf8') != '':\n",
    "                    cause_after_splitted = cause.text.strip()\n",
    "                    result_causes.append(cause_after_splitted)\n",
    "            for comment in comments:\n",
    "                if comment.text.strip().encode('utf8') != '':\n",
    "                    comment_after_splitted = comment.text.strip()\n",
    "                    result_comments.append(comment_after_splitted)\n",
    "              # print managements\n",
    "            for management in managements:\n",
    "                if management.text.strip().encode('utf8') != '':\n",
    "                    management_after_splitted = management.text.strip()\n",
    "                    result_managements.append(management_after_splitted[23:])\n",
    "            from pandas import DataFrame\n",
    "            df['Name'] = DataFrame (lines,columns=['Name'])\n",
    "            df['Symptoms'] = pd.DataFrame(result_symptoms,columns=['Symptoms'])\n",
    "            df['Causes'] = pd.DataFrame(result_causes,columns=['Causes'])\n",
    "            df['Comments'] = pd.DataFrame(result_comments,columns=['Comments'])\n",
    "            df['Management'] = pd.DataFrame( result_managements,columns=['Management'])\n",
    "            #exporting all questions to .xlsx sheet\n",
    "            df.to_excel(file_name,index=False,encoding='utf-8')\n",
    "        except:\n",
    "            print(\"There was a problem with the link: \", x)"
   ]
  },
  {
   "cell_type": "code",
   "execution_count": 8,
   "metadata": {},
   "outputs": [],
   "source": [
    "collectData ('F:/plantvillage.xlsx')"
   ]
  },
  {
   "cell_type": "code",
   "execution_count": null,
   "metadata": {},
   "outputs": [],
   "source": []
  }
 ],
 "metadata": {
  "kernelspec": {
   "display_name": "Python 3",
   "language": "python",
   "name": "python3"
  },
  "language_info": {
   "codemirror_mode": {
    "name": "ipython",
    "version": 3
   },
   "file_extension": ".py",
   "mimetype": "text/x-python",
   "name": "python",
   "nbconvert_exporter": "python",
   "pygments_lexer": "ipython3",
   "version": "3.7.3"
  }
 },
 "nbformat": 4,
 "nbformat_minor": 4
}
